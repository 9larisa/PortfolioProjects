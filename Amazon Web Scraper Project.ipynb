{
 "cells": [
  {
   "cell_type": "code",
   "execution_count": 247,
   "id": "40b3f9ae",
   "metadata": {},
   "outputs": [],
   "source": [
    "# Import libraries \n",
    "\n",
    "from bs4 import BeautifulSoup\n",
    "import requests\n",
    "import time\n",
    "import datetime\n",
    "from selenium import webdriver\n",
    "\n",
    "import smtplib"
   ]
  },
  {
   "cell_type": "code",
   "execution_count": 248,
   "id": "14d57237",
   "metadata": {},
   "outputs": [
    {
     "name": "stdout",
     "output_type": "stream",
     "text": [
      "\n",
      "                   Dinoz I Never Dreamed I'd Grow Up to Be A Cool Job Tittle Shirt\n",
      "                  \n",
      "\n",
      "                   About this item\n",
      "                  \n"
     ]
    }
   ],
   "source": [
    "# Connect to Website\n",
    "\n",
    "URL = 'https://www.amazon.com/Dinoz-Dreamed-Analyst-Fashionable-Personalized/dp/B0CBF5PL7Q/ref=sr_1_5?keywords=data%2Banalyst%2Btshirt&qid=1701099427&s=apparel&sr=1-5&th=1&psc=1'\n",
    "\n",
    "headers = {\"User-Agent\": \"Mozilla/5.0 (Macintosh; Intel Mac OS X 10_15_7) AppleWebKit/537.36 (KHTML, like Gecko) Chrome/117.0.0.0 Safari/537.36\", \"Accept-Encoding\": \"gzip, deflate, br\", \"Accept\": \"text/html,application/xhtml+xml,application/xml;q=0.9,image/avif,image/webp,image/apng,*/*;q=0.8,application/signed-exchange;v=b3;q=0.7\", \"DNT\":\"1\",\"Connection\":\"close\", \"Upgrade-Insecure-Requests\":\"1\"}\n",
    "\n",
    "page = requests.get(URL, headers=headers)\n",
    "\n",
    "soup1 = BeautifulSoup(page.content, 'html.parser')\n",
    "\n",
    "soup2 = BeautifulSoup(soup1.prettify(), 'html.parser')\n",
    "\n",
    "title = soup2.find(id='productTitle').get_text()\n",
    "\n",
    "price = soup2.find('span', {'class': 'aok-offscreen'}).get_text()\n",
    "\n",
    "\n",
    "print(title)\n",
    "print(price)\n",
    "\n"
   ]
  },
  {
   "cell_type": "code",
   "execution_count": 249,
   "id": "26ac02f2",
   "metadata": {},
   "outputs": [
    {
     "name": "stdout",
     "output_type": "stream",
     "text": [
      "Dinoz I Never Dreamed I'd Grow Up to Be A Cool Job Tittle Shirt\n",
      "bout this item\n"
     ]
    }
   ],
   "source": [
    "price = price.strip()[1:]\n",
    "title = title.strip()\n",
    "print(title)\n",
    "print(price)\n"
   ]
  },
  {
   "cell_type": "code",
   "execution_count": 250,
   "id": "52415066",
   "metadata": {},
   "outputs": [
    {
     "name": "stdout",
     "output_type": "stream",
     "text": [
      "2023-11-28\n"
     ]
    }
   ],
   "source": [
    "import datetime\n",
    "\n",
    "today = datetime.date.today()\n",
    "print(today)"
   ]
  },
  {
   "cell_type": "code",
   "execution_count": 251,
   "id": "aa6a1bef",
   "metadata": {},
   "outputs": [],
   "source": [
    "import csv\n",
    "\n",
    "header = ['Title', 'Price', 'Date']\n",
    "data = [title, price, today]\n",
    "\n",
    "# with open('/Users/larisakuchinskaia/Desktop/Portfolio Project/AmazonWebScraperProject/AmazonWebScraperDataset.csv', 'w', newline='', encoding='UTF-8') as f:\n",
    "#     writer = csv.writer(f)\n",
    "#     writer.writerow(header)\n",
    "#     writer.writerow(data)    "
   ]
  },
  {
   "cell_type": "code",
   "execution_count": 252,
   "id": "c95aa795",
   "metadata": {},
   "outputs": [
    {
     "name": "stdout",
     "output_type": "stream",
     "text": [
      "                                               Title           Price  \\\n",
      "0  Dinoz I Never Dreamed I'd Grow Up to Be A Cool...  bout this item   \n",
      "\n",
      "         Date  \n",
      "0  2023-11-28  \n"
     ]
    }
   ],
   "source": [
    "import pandas as pd\n",
    "df= df.drop([0, 1, 2, 3, 4])\n",
    "\n",
    "df = pd.read_csv('/Users/larisakuchinskaia/Desktop/Portfolio Project/AmazonWebScraperProject/AmazonWebScraperDataset.csv')\n",
    "print(df)"
   ]
  },
  {
   "cell_type": "code",
   "execution_count": 253,
   "id": "395a8016",
   "metadata": {},
   "outputs": [],
   "source": [
    "# Now we are appending to the csv\n",
    "\n",
    "with open('/Users/larisakuchinskaia/Desktop/Portfolio Project/AmazonWebScraperProject/AmazonWebScraperDataset.csv', 'a+', newline='', encoding='UTF-8') as f:\n",
    "    writer = csv.writer(f)\n",
    "    writer.writerow(data) "
   ]
  },
  {
   "cell_type": "code",
   "execution_count": 254,
   "id": "b4359c87",
   "metadata": {},
   "outputs": [],
   "source": [
    "import datetime\n",
    "import csv\n",
    "\n",
    "def check_price():\n",
    "    URL = 'https://www.amazon.com/Dinoz-Dreamed-Analyst-Fashionable-Personalized/dp/B0CBF5PL7Q/ref=sr_1_5?keywords=data%2Banalyst%2Btshirt&qid=1701099427&s=apparel&sr=1-5&th=1&psc=1'\n",
    "\n",
    "    headers = {\"User-Agent\": \"Mozilla/5.0 (Macintosh; Intel Mac OS X 10_15_7) AppleWebKit/537.36 (KHTML, like Gecko) Chrome/117.0.0.0 Safari/537.36\", \"Accept-Encoding\": \"gzip, deflate, br\", \"Accept\": \"text/html,application/xhtml+xml,application/xml;q=0.9,image/avif,image/webp,image/apng,*/*;q=0.8,application/signed-exchange;v=b3;q=0.7\", \"DNT\":\"1\",\"Connection\":\"close\", \"Upgrade-Insecure-Requests\":\"1\"}\n",
    "\n",
    "    page = requests.get(URL, headers=headers)\n",
    "\n",
    "    soup1 = BeautifulSoup(page.content, 'html.parser')\n",
    "\n",
    "    soup2 = BeautifulSoup(soup1.prettify(), 'html.parser')\n",
    "\n",
    "    title = soup2.find(id='productTitle').get_text()\n",
    "    \n",
    "    price = soup2.find('span', {'class': 'aok-offscreen'}).get_text()\n",
    "    \n",
    "    price = price.strip()[1:]\n",
    "\n",
    "    title = title.strip()\n",
    "\n",
    "    today = datetime.date.today()\n",
    "\n",
    "    header = ['Title', 'Price', 'Date']\n",
    "    \n",
    "    data = [title, price, today]\n",
    "    \n",
    "    with open('/Users/larisakuchinskaia/Desktop/Portfolio Project/AmazonWebScraperProject/AmazonWebScraperDataset.csv', 'a+', newline='', encoding='UTF-8') as f:\n",
    "        writer = csv.writer(f)\n",
    "        writer.writerow(data) \n",
    "    \n",
    "    "
   ]
  },
  {
   "cell_type": "code",
   "execution_count": null,
   "id": "dec96df9",
   "metadata": {},
   "outputs": [],
   "source": [
    "while(True):\n",
    "    check_price()\n",
    "    time.sleep(86400)"
   ]
  },
  {
   "cell_type": "code",
   "execution_count": null,
   "id": "935e1416",
   "metadata": {},
   "outputs": [],
   "source": [
    "import pandas as pd\n",
    "\n",
    "df = pd.read_csv('/Users/larisakuchinskaia/Desktop/Portfolio Project/AmazonWebScraperProject/AmazonWebScraperDataset.csv')\n",
    "print(df)"
   ]
  },
  {
   "cell_type": "code",
   "execution_count": null,
   "id": "ea036e68",
   "metadata": {},
   "outputs": [],
   "source": [
    "def send_mail():\n",
    "        server = smtplib.SMTP_SSL('smtp.gmail.com', 465)\n",
    "        server.ehlo()\n",
    "        #server.starttles()\n",
    "        server.ehlo()\n",
    "        server.login('your_email@gmail.com', 'xxxxxxxxxxxxxx')\n",
    "    \n",
    "        subject = 'The shirt you want is below $10! Now is your chance to buy'\n",
    "        body = \"Hey! This is the moment we have been waiting for. Now is your chance to pick up the shirt of your dreams. Don't mess\"\n",
    "    \n",
    "    \n",
    "        msg = f\"Subjedct: {subject}\\n\\n{body}\"\n",
    "    \n",
    "        server.sendmail(\n",
    "        'your_email@gmail.com',\n",
    "        msg)"
   ]
  }
 ],
 "metadata": {
  "kernelspec": {
   "display_name": "Python 3 (ipykernel)",
   "language": "python",
   "name": "python3"
  },
  "language_info": {
   "codemirror_mode": {
    "name": "ipython",
    "version": 3
   },
   "file_extension": ".py",
   "mimetype": "text/x-python",
   "name": "python",
   "nbconvert_exporter": "python",
   "pygments_lexer": "ipython3",
   "version": "3.11.5"
  }
 },
 "nbformat": 4,
 "nbformat_minor": 5
}
